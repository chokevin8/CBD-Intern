{
 "cells": [
  {
   "cell_type": "markdown",
   "id": "f1451723",
   "metadata": {
    "papermill": {
     "duration": 0.010392,
     "end_time": "2022-08-01T00:06:52.828272",
     "exception": false,
     "start_time": "2022-08-01T00:06:52.817880",
     "status": "completed"
    },
    "tags": []
   },
   "source": [
    "# **My First Notebook of my ML Journey**"
   ]
  },
  {
   "cell_type": "markdown",
   "id": "f03218b0",
   "metadata": {
    "papermill": {
     "duration": 0.00873,
     "end_time": "2022-08-01T00:06:52.846184",
     "exception": false,
     "start_time": "2022-08-01T00:06:52.837454",
     "status": "completed"
    },
    "tags": []
   },
   "source": [
    "### I'll be trying many different machine learning algorithms to compare which method works the best. "
   ]
  },
  {
   "cell_type": "markdown",
   "id": "6c85dee6",
   "metadata": {
    "papermill": {
     "duration": 0.008703,
     "end_time": "2022-08-01T00:06:52.863849",
     "exception": false,
     "start_time": "2022-08-01T00:06:52.855146",
     "status": "completed"
    },
    "tags": []
   },
   "source": [
    "### The first RandomForest Method is directly from the tutorial, which can be found [here](https://www.kaggle.com/code/alexisbcook/titanic-tutorial)."
   ]
  },
  {
   "cell_type": "markdown",
   "id": "a78e5452",
   "metadata": {
    "papermill": {
     "duration": 0.00878,
     "end_time": "2022-08-01T00:06:52.881674",
     "exception": false,
     "start_time": "2022-08-01T00:06:52.872894",
     "status": "completed"
    },
    "tags": []
   },
   "source": [
    "## **Import Necessary Libraries and Read Data:**"
   ]
  },
  {
   "cell_type": "code",
   "execution_count": 1,
   "id": "827224a5",
   "metadata": {
    "_cell_guid": "b1076dfc-b9ad-4769-8c92-a6c4dae69d19",
    "_uuid": "8f2839f25d086af736a60e9eeb907d3b93b6e0e5",
    "execution": {
     "iopub.execute_input": "2022-08-01T00:06:52.901729Z",
     "iopub.status.busy": "2022-08-01T00:06:52.901222Z",
     "iopub.status.idle": "2022-08-01T00:07:05.452429Z",
     "shell.execute_reply": "2022-08-01T00:07:05.451117Z"
    },
    "papermill": {
     "duration": 12.565478,
     "end_time": "2022-08-01T00:07:05.456098",
     "exception": false,
     "start_time": "2022-08-01T00:06:52.890620",
     "status": "completed"
    },
    "tags": []
   },
   "outputs": [
    {
     "name": "stdout",
     "output_type": "stream",
     "text": [
      "/kaggle/input/titanic/train.csv\n",
      "/kaggle/input/titanic/test.csv\n",
      "/kaggle/input/titanic/gender_submission.csv\n"
     ]
    }
   ],
   "source": [
    "import numpy as np \n",
    "import pandas as pd \n",
    "import seaborn as sns\n",
    "import matplotlib.pyplot as plt\n",
    "import sklearn as sk\n",
    "import torch\n",
    "import tensorflow as tf\n",
    "import os\n",
    "# Lists all data available:\n",
    "for dirname, _, filenames in os.walk('/kaggle/input'):\n",
    "    for filename in filenames:\n",
    "        print(os.path.join(dirname, filename))\n",
    "\n",
    "train_data = pd.read_csv(\"/kaggle/input/titanic/train.csv\")\n",
    "test_data = pd.read_csv(\"/kaggle/input/titanic/test.csv\")\n",
    "gender_data = pd.read_csv(\"/kaggle/input/titanic/test.csv\")"
   ]
  },
  {
   "cell_type": "code",
   "execution_count": 2,
   "id": "16e7b7aa",
   "metadata": {
    "execution": {
     "iopub.execute_input": "2022-08-01T00:07:05.477529Z",
     "iopub.status.busy": "2022-08-01T00:07:05.477075Z",
     "iopub.status.idle": "2022-08-01T00:07:05.507868Z",
     "shell.execute_reply": "2022-08-01T00:07:05.506563Z"
    },
    "papermill": {
     "duration": 0.045402,
     "end_time": "2022-08-01T00:07:05.511371",
     "exception": false,
     "start_time": "2022-08-01T00:07:05.465969",
     "status": "completed"
    },
    "tags": []
   },
   "outputs": [
    {
     "data": {
      "text/html": [
       "<div>\n",
       "<style scoped>\n",
       "    .dataframe tbody tr th:only-of-type {\n",
       "        vertical-align: middle;\n",
       "    }\n",
       "\n",
       "    .dataframe tbody tr th {\n",
       "        vertical-align: top;\n",
       "    }\n",
       "\n",
       "    .dataframe thead th {\n",
       "        text-align: right;\n",
       "    }\n",
       "</style>\n",
       "<table border=\"1\" class=\"dataframe\">\n",
       "  <thead>\n",
       "    <tr style=\"text-align: right;\">\n",
       "      <th></th>\n",
       "      <th>PassengerId</th>\n",
       "      <th>Survived</th>\n",
       "      <th>Pclass</th>\n",
       "      <th>Name</th>\n",
       "      <th>Sex</th>\n",
       "      <th>Age</th>\n",
       "      <th>SibSp</th>\n",
       "      <th>Parch</th>\n",
       "      <th>Ticket</th>\n",
       "      <th>Fare</th>\n",
       "      <th>Cabin</th>\n",
       "      <th>Embarked</th>\n",
       "    </tr>\n",
       "  </thead>\n",
       "  <tbody>\n",
       "    <tr>\n",
       "      <th>0</th>\n",
       "      <td>1</td>\n",
       "      <td>0</td>\n",
       "      <td>3</td>\n",
       "      <td>Braund, Mr. Owen Harris</td>\n",
       "      <td>male</td>\n",
       "      <td>22.0</td>\n",
       "      <td>1</td>\n",
       "      <td>0</td>\n",
       "      <td>A/5 21171</td>\n",
       "      <td>7.2500</td>\n",
       "      <td>NaN</td>\n",
       "      <td>S</td>\n",
       "    </tr>\n",
       "    <tr>\n",
       "      <th>1</th>\n",
       "      <td>2</td>\n",
       "      <td>1</td>\n",
       "      <td>1</td>\n",
       "      <td>Cumings, Mrs. John Bradley (Florence Briggs Th...</td>\n",
       "      <td>female</td>\n",
       "      <td>38.0</td>\n",
       "      <td>1</td>\n",
       "      <td>0</td>\n",
       "      <td>PC 17599</td>\n",
       "      <td>71.2833</td>\n",
       "      <td>C85</td>\n",
       "      <td>C</td>\n",
       "    </tr>\n",
       "    <tr>\n",
       "      <th>2</th>\n",
       "      <td>3</td>\n",
       "      <td>1</td>\n",
       "      <td>3</td>\n",
       "      <td>Heikkinen, Miss. Laina</td>\n",
       "      <td>female</td>\n",
       "      <td>26.0</td>\n",
       "      <td>0</td>\n",
       "      <td>0</td>\n",
       "      <td>STON/O2. 3101282</td>\n",
       "      <td>7.9250</td>\n",
       "      <td>NaN</td>\n",
       "      <td>S</td>\n",
       "    </tr>\n",
       "    <tr>\n",
       "      <th>3</th>\n",
       "      <td>4</td>\n",
       "      <td>1</td>\n",
       "      <td>1</td>\n",
       "      <td>Futrelle, Mrs. Jacques Heath (Lily May Peel)</td>\n",
       "      <td>female</td>\n",
       "      <td>35.0</td>\n",
       "      <td>1</td>\n",
       "      <td>0</td>\n",
       "      <td>113803</td>\n",
       "      <td>53.1000</td>\n",
       "      <td>C123</td>\n",
       "      <td>S</td>\n",
       "    </tr>\n",
       "    <tr>\n",
       "      <th>4</th>\n",
       "      <td>5</td>\n",
       "      <td>0</td>\n",
       "      <td>3</td>\n",
       "      <td>Allen, Mr. William Henry</td>\n",
       "      <td>male</td>\n",
       "      <td>35.0</td>\n",
       "      <td>0</td>\n",
       "      <td>0</td>\n",
       "      <td>373450</td>\n",
       "      <td>8.0500</td>\n",
       "      <td>NaN</td>\n",
       "      <td>S</td>\n",
       "    </tr>\n",
       "    <tr>\n",
       "      <th>5</th>\n",
       "      <td>6</td>\n",
       "      <td>0</td>\n",
       "      <td>3</td>\n",
       "      <td>Moran, Mr. James</td>\n",
       "      <td>male</td>\n",
       "      <td>NaN</td>\n",
       "      <td>0</td>\n",
       "      <td>0</td>\n",
       "      <td>330877</td>\n",
       "      <td>8.4583</td>\n",
       "      <td>NaN</td>\n",
       "      <td>Q</td>\n",
       "    </tr>\n",
       "    <tr>\n",
       "      <th>6</th>\n",
       "      <td>7</td>\n",
       "      <td>0</td>\n",
       "      <td>1</td>\n",
       "      <td>McCarthy, Mr. Timothy J</td>\n",
       "      <td>male</td>\n",
       "      <td>54.0</td>\n",
       "      <td>0</td>\n",
       "      <td>0</td>\n",
       "      <td>17463</td>\n",
       "      <td>51.8625</td>\n",
       "      <td>E46</td>\n",
       "      <td>S</td>\n",
       "    </tr>\n",
       "    <tr>\n",
       "      <th>7</th>\n",
       "      <td>8</td>\n",
       "      <td>0</td>\n",
       "      <td>3</td>\n",
       "      <td>Palsson, Master. Gosta Leonard</td>\n",
       "      <td>male</td>\n",
       "      <td>2.0</td>\n",
       "      <td>3</td>\n",
       "      <td>1</td>\n",
       "      <td>349909</td>\n",
       "      <td>21.0750</td>\n",
       "      <td>NaN</td>\n",
       "      <td>S</td>\n",
       "    </tr>\n",
       "    <tr>\n",
       "      <th>8</th>\n",
       "      <td>9</td>\n",
       "      <td>1</td>\n",
       "      <td>3</td>\n",
       "      <td>Johnson, Mrs. Oscar W (Elisabeth Vilhelmina Berg)</td>\n",
       "      <td>female</td>\n",
       "      <td>27.0</td>\n",
       "      <td>0</td>\n",
       "      <td>2</td>\n",
       "      <td>347742</td>\n",
       "      <td>11.1333</td>\n",
       "      <td>NaN</td>\n",
       "      <td>S</td>\n",
       "    </tr>\n",
       "    <tr>\n",
       "      <th>9</th>\n",
       "      <td>10</td>\n",
       "      <td>1</td>\n",
       "      <td>2</td>\n",
       "      <td>Nasser, Mrs. Nicholas (Adele Achem)</td>\n",
       "      <td>female</td>\n",
       "      <td>14.0</td>\n",
       "      <td>1</td>\n",
       "      <td>0</td>\n",
       "      <td>237736</td>\n",
       "      <td>30.0708</td>\n",
       "      <td>NaN</td>\n",
       "      <td>C</td>\n",
       "    </tr>\n",
       "  </tbody>\n",
       "</table>\n",
       "</div>"
      ],
      "text/plain": [
       "   PassengerId  Survived  Pclass  \\\n",
       "0            1         0       3   \n",
       "1            2         1       1   \n",
       "2            3         1       3   \n",
       "3            4         1       1   \n",
       "4            5         0       3   \n",
       "5            6         0       3   \n",
       "6            7         0       1   \n",
       "7            8         0       3   \n",
       "8            9         1       3   \n",
       "9           10         1       2   \n",
       "\n",
       "                                                Name     Sex   Age  SibSp  \\\n",
       "0                            Braund, Mr. Owen Harris    male  22.0      1   \n",
       "1  Cumings, Mrs. John Bradley (Florence Briggs Th...  female  38.0      1   \n",
       "2                             Heikkinen, Miss. Laina  female  26.0      0   \n",
       "3       Futrelle, Mrs. Jacques Heath (Lily May Peel)  female  35.0      1   \n",
       "4                           Allen, Mr. William Henry    male  35.0      0   \n",
       "5                                   Moran, Mr. James    male   NaN      0   \n",
       "6                            McCarthy, Mr. Timothy J    male  54.0      0   \n",
       "7                     Palsson, Master. Gosta Leonard    male   2.0      3   \n",
       "8  Johnson, Mrs. Oscar W (Elisabeth Vilhelmina Berg)  female  27.0      0   \n",
       "9                Nasser, Mrs. Nicholas (Adele Achem)  female  14.0      1   \n",
       "\n",
       "   Parch            Ticket     Fare Cabin Embarked  \n",
       "0      0         A/5 21171   7.2500   NaN        S  \n",
       "1      0          PC 17599  71.2833   C85        C  \n",
       "2      0  STON/O2. 3101282   7.9250   NaN        S  \n",
       "3      0            113803  53.1000  C123        S  \n",
       "4      0            373450   8.0500   NaN        S  \n",
       "5      0            330877   8.4583   NaN        Q  \n",
       "6      0             17463  51.8625   E46        S  \n",
       "7      1            349909  21.0750   NaN        S  \n",
       "8      2            347742  11.1333   NaN        S  \n",
       "9      0            237736  30.0708   NaN        C  "
      ]
     },
     "execution_count": 2,
     "metadata": {},
     "output_type": "execute_result"
    }
   ],
   "source": [
    "#Take a look at the training data:\n",
    "train_data.head(n = 10)"
   ]
  },
  {
   "cell_type": "code",
   "execution_count": 3,
   "id": "99ea4985",
   "metadata": {
    "execution": {
     "iopub.execute_input": "2022-08-01T00:07:05.534090Z",
     "iopub.status.busy": "2022-08-01T00:07:05.533269Z",
     "iopub.status.idle": "2022-08-01T00:07:06.115656Z",
     "shell.execute_reply": "2022-08-01T00:07:06.114557Z"
    },
    "papermill": {
     "duration": 0.597154,
     "end_time": "2022-08-01T00:07:06.118863",
     "exception": false,
     "start_time": "2022-08-01T00:07:05.521709",
     "status": "completed"
    },
    "tags": []
   },
   "outputs": [],
   "source": [
    "from sklearn.ensemble import RandomForestClassifier\n",
    "\n",
    "# y is the outcome\n",
    "y = train_data[\"Survived\"]\n",
    "\n",
    "# Extract only desired features\n",
    "features = [\"Pclass\", \"Sex\", \"SibSp\", \"Parch\"]\n",
    "X = pd.get_dummies(train_data[features])\n",
    "X_test = pd.get_dummies(test_data[features])\n",
    "\n",
    "# define model and fit and predict:\n",
    "model = RandomForestClassifier(n_estimators=100, max_depth=5, random_state=1)\n",
    "model.fit(X, y)\n",
    "predictions = model.predict(X_test)\n",
    "\n",
    "output = pd.DataFrame({'PassengerId': test_data.PassengerId, 'Survived': predictions})\n",
    "output.to_csv('submission.csv', index=False)"
   ]
  },
  {
   "cell_type": "markdown",
   "id": "5cbaebc1",
   "metadata": {
    "papermill": {
     "duration": 0.009374,
     "end_time": "2022-08-01T00:07:06.138156",
     "exception": false,
     "start_time": "2022-08-01T00:07:06.128782",
     "status": "completed"
    },
    "tags": []
   },
   "source": [
    "# **Exploratory Data Analysis and Feature Engineering**\n",
    "### Now, this was without any exploratory data analysis (EDA) and feature engineering. We'll try to explore the data and perform some feature engineering as well. This is the [source](https://www.kaggle.com/code/gunesevitan/titanic-advanced-feature-engineering-tutorial/notebook) that I will use for this. Also, I've done my own EDA and feature engineering according to Kaggle's tutorials, which can be found here in Kaggle's [Intermediate Machine Learning Tutorial](https://www.kaggle.com/learn/intermediate-machine-learning) and [Feature Engineering](https://www.kaggle.com/learn/feature-engineering)"
   ]
  },
  {
   "cell_type": "code",
   "execution_count": 4,
   "id": "91f90a6f",
   "metadata": {
    "execution": {
     "iopub.execute_input": "2022-08-01T00:07:06.159910Z",
     "iopub.status.busy": "2022-08-01T00:07:06.159495Z",
     "iopub.status.idle": "2022-08-01T00:07:06.180080Z",
     "shell.execute_reply": "2022-08-01T00:07:06.178840Z"
    },
    "papermill": {
     "duration": 0.035221,
     "end_time": "2022-08-01T00:07:06.183179",
     "exception": false,
     "start_time": "2022-08-01T00:07:06.147958",
     "status": "completed"
    },
    "tags": []
   },
   "outputs": [
    {
     "name": "stdout",
     "output_type": "stream",
     "text": [
      "<class 'pandas.core.frame.DataFrame'>\n",
      "RangeIndex: 891 entries, 0 to 890\n",
      "Data columns (total 12 columns):\n",
      " #   Column       Non-Null Count  Dtype  \n",
      "---  ------       --------------  -----  \n",
      " 0   PassengerId  891 non-null    int64  \n",
      " 1   Survived     891 non-null    int64  \n",
      " 2   Pclass       891 non-null    int64  \n",
      " 3   Name         891 non-null    object \n",
      " 4   Sex          891 non-null    object \n",
      " 5   Age          714 non-null    float64\n",
      " 6   SibSp        891 non-null    int64  \n",
      " 7   Parch        891 non-null    int64  \n",
      " 8   Ticket       891 non-null    object \n",
      " 9   Fare         891 non-null    float64\n",
      " 10  Cabin        204 non-null    object \n",
      " 11  Embarked     889 non-null    object \n",
      "dtypes: float64(2), int64(5), object(5)\n",
      "memory usage: 83.7+ KB\n",
      "None\n"
     ]
    }
   ],
   "source": [
    "# Take a look at the info of the data:\n",
    "print(train_data.info())"
   ]
  },
  {
   "cell_type": "markdown",
   "id": "8419c990",
   "metadata": {
    "papermill": {
     "duration": 0.009818,
     "end_time": "2022-08-01T00:07:06.202898",
     "exception": false,
     "start_time": "2022-08-01T00:07:06.193080",
     "status": "completed"
    },
    "tags": []
   },
   "source": [
    "### We can see that Cabin has a lot of null objects, so we'll have to see if it's worth using this. Age has 891-714 = 177 null objects, so we'll have to see as well. Embarked only has two missing, we should think of replacing this with something else as well. Let's do some EDA: "
   ]
  },
  {
   "cell_type": "code",
   "execution_count": 5,
   "id": "b0b7115e",
   "metadata": {
    "execution": {
     "iopub.execute_input": "2022-08-01T00:07:06.225126Z",
     "iopub.status.busy": "2022-08-01T00:07:06.224695Z",
     "iopub.status.idle": "2022-08-01T00:07:06.250062Z",
     "shell.execute_reply": "2022-08-01T00:07:06.248428Z"
    },
    "papermill": {
     "duration": 0.039946,
     "end_time": "2022-08-01T00:07:06.252781",
     "exception": false,
     "start_time": "2022-08-01T00:07:06.212835",
     "status": "completed"
    },
    "tags": []
   },
   "outputs": [
    {
     "name": "stdout",
     "output_type": "stream",
     "text": [
      "<class 'pandas.core.frame.DataFrame'>\n",
      "RangeIndex: 891 entries, 0 to 890\n",
      "Data columns (total 11 columns):\n",
      " #   Column       Non-Null Count  Dtype  \n",
      "---  ------       --------------  -----  \n",
      " 0   PassengerId  891 non-null    int64  \n",
      " 1   Pclass       891 non-null    int64  \n",
      " 2   Name         891 non-null    int64  \n",
      " 3   Sex          891 non-null    int64  \n",
      " 4   Age          714 non-null    float64\n",
      " 5   SibSp        891 non-null    int64  \n",
      " 6   Parch        891 non-null    int64  \n",
      " 7   Ticket       891 non-null    int64  \n",
      " 8   Fare         891 non-null    int64  \n",
      " 9   Cabin        891 non-null    int64  \n",
      " 10  Embarked     891 non-null    int64  \n",
      "dtypes: float64(1), int64(10)\n",
      "memory usage: 76.7 KB\n",
      "None\n"
     ]
    }
   ],
   "source": [
    "EDA_X = train_data.copy()\n",
    "\n",
    "# find colname of objects and factorize them:\n",
    "for colnames in EDA_X.select_dtypes(\"object\"):\n",
    "    EDA_X[colnames], _ = EDA_X[colnames].factorize()\n",
    "\n",
    "#First remove survived, and need to remove float to calculaute MI!:\n",
    "EDA_Y = EDA_X[\"Survived\"]\n",
    "EDA_X = EDA_X.drop(\"Survived\",axis=1)\n",
    "EDA_X[\"Fare\"] = EDA_X[\"Fare\"].astype(\"int\")\n",
    "EDA_X_colnames = EDA_X.columns\n",
    "print(EDA_X.info())"
   ]
  },
  {
   "cell_type": "code",
   "execution_count": 6,
   "id": "0d51743b",
   "metadata": {
    "execution": {
     "iopub.execute_input": "2022-08-01T00:07:06.275463Z",
     "iopub.status.busy": "2022-08-01T00:07:06.274636Z",
     "iopub.status.idle": "2022-08-01T00:07:06.303282Z",
     "shell.execute_reply": "2022-08-01T00:07:06.302040Z"
    },
    "papermill": {
     "duration": 0.043578,
     "end_time": "2022-08-01T00:07:06.306404",
     "exception": false,
     "start_time": "2022-08-01T00:07:06.262826",
     "status": "completed"
    },
    "tags": []
   },
   "outputs": [
    {
     "name": "stdout",
     "output_type": "stream",
     "text": [
      "<class 'pandas.core.frame.DataFrame'>\n",
      "RangeIndex: 891 entries, 0 to 890\n",
      "Data columns (total 11 columns):\n",
      " #   Column       Non-Null Count  Dtype\n",
      "---  ------       --------------  -----\n",
      " 0   PassengerId  891 non-null    int64\n",
      " 1   Pclass       891 non-null    int64\n",
      " 2   Name         891 non-null    int64\n",
      " 3   Sex          891 non-null    int64\n",
      " 4   Age          891 non-null    int64\n",
      " 5   SibSp        891 non-null    int64\n",
      " 6   Parch        891 non-null    int64\n",
      " 7   Ticket       891 non-null    int64\n",
      " 8   Fare         891 non-null    int64\n",
      " 9   Cabin        891 non-null    int64\n",
      " 10  Embarked     891 non-null    int64\n",
      "dtypes: int64(11)\n",
      "memory usage: 76.7 KB\n",
      "None\n",
      "PassengerId    int64\n",
      "Pclass         int64\n",
      "Name           int64\n",
      "Sex            int64\n",
      "Age            int64\n",
      "SibSp          int64\n",
      "Parch          int64\n",
      "Ticket         int64\n",
      "Fare           int64\n",
      "Cabin          int64\n",
      "Embarked       int64\n",
      "dtype: object\n"
     ]
    }
   ],
   "source": [
    "# Impute missing values of Age and turn them into int:\n",
    "from sklearn.impute import SimpleImputer\n",
    "Simple_Imputer = SimpleImputer(strategy=\"median\")\n",
    "EDA_X = pd.DataFrame(Simple_Imputer.fit_transform(EDA_X))\n",
    "EDA_X.columns = EDA_X_colnames\n",
    "EDA_X = EDA_X.astype(\"int\")\n",
    "print(EDA_X.info())\n",
    "\n",
    "my_discrete_features = EDA_X.dtypes\n",
    "print(my_discrete_features)"
   ]
  },
  {
   "cell_type": "code",
   "execution_count": 7,
   "id": "7aeae736",
   "metadata": {
    "execution": {
     "iopub.execute_input": "2022-08-01T00:07:06.329496Z",
     "iopub.status.busy": "2022-08-01T00:07:06.328736Z",
     "iopub.status.idle": "2022-08-01T00:07:06.406987Z",
     "shell.execute_reply": "2022-08-01T00:07:06.405374Z"
    },
    "papermill": {
     "duration": 0.094229,
     "end_time": "2022-08-01T00:07:06.410774",
     "exception": false,
     "start_time": "2022-08-01T00:07:06.316545",
     "status": "completed"
    },
    "tags": []
   },
   "outputs": [
    {
     "name": "stdout",
     "output_type": "stream",
     "text": [
      "Sex            0.166475\n",
      "Fare           0.084712\n",
      "Ticket         0.083390\n",
      "Pclass         0.068139\n",
      "Cabin          0.052963\n",
      "Age            0.036030\n",
      "Name           0.015678\n",
      "PassengerId    0.012873\n",
      "Embarked       0.009399\n",
      "SibSp          0.000000\n",
      "Parch          0.000000\n",
      "Name: MI Scores, dtype: float64\n"
     ]
    }
   ],
   "source": [
    "from sklearn.feature_selection import mutual_info_classif\n",
    "\n",
    "def make_mi_scores (X,y):\n",
    "    mi_scores = mutual_info_classif(X,y)\n",
    "    mi_scores = pd.Series(mi_scores, name = \"MI Scores\", index = EDA_X.columns)\n",
    "    mi_scores = mi_scores.sort_values(ascending=False)\n",
    "    return mi_scores\n",
    "\n",
    "mi_scores= make_mi_scores(EDA_X,EDA_Y)\n",
    "print(mi_scores)"
   ]
  },
  {
   "cell_type": "code",
   "execution_count": 8,
   "id": "baecffee",
   "metadata": {
    "execution": {
     "iopub.execute_input": "2022-08-01T00:07:06.434280Z",
     "iopub.status.busy": "2022-08-01T00:07:06.433865Z",
     "iopub.status.idle": "2022-08-01T00:07:06.988727Z",
     "shell.execute_reply": "2022-08-01T00:07:06.987269Z"
    },
    "papermill": {
     "duration": 0.570595,
     "end_time": "2022-08-01T00:07:06.991995",
     "exception": false,
     "start_time": "2022-08-01T00:07:06.421400",
     "status": "completed"
    },
    "tags": []
   },
   "outputs": [
    {
     "data": {
      "image/png": "[encoded data removed]",
      "text/plain": [
       "<Figure size 3000x1500 with 1 Axes>"
      ]
     },
     "metadata": {
      "needs_background": "light"
     },
     "output_type": "display_data"
    }
   ],
   "source": [
    "# mi_scores must be a pd.Series\n",
    "def plot_mi_scores(mi_scores):\n",
    "    scores = mi_scores.sort_values(ascending = True)\n",
    "    width = np.arange(len(scores))\n",
    "    ticks = list(scores.index)\n",
    "    plt.barh(width, scores)\n",
    "    plt.yticks(width, ticks)\n",
    "    plt.title(\"Mutual Information Scores In Order\")\n",
    "\n",
    "plt.figure(dpi=300, figsize=(10, 5))\n",
    "plot_mi_scores(mi_scores)"
   ]
  },
  {
   "cell_type": "markdown",
   "id": "e57450ac",
   "metadata": {
    "papermill": {
     "duration": 0.011442,
     "end_time": "2022-08-01T00:07:07.015619",
     "exception": false,
     "start_time": "2022-08-01T00:07:07.004177",
     "status": "completed"
    },
    "tags": []
   },
   "source": [
    "### Here we can see that as expected (with previous \"information\" on data), that sex has the biggest impact on the outcome. However, MI is only univariate, it doesn't mean that low MI score features have no impact on outcome because the score is zero. MI doesn't take interactions between features into account at all. Also, note that MI will change by a little bit every time it is run because of the nature of the function, but the overall trend doesn't change. "
   ]
  },
  {
   "cell_type": "markdown",
   "id": "1b5eaf36",
   "metadata": {
    "papermill": {
     "duration": 0.011494,
     "end_time": "2022-08-01T00:07:07.038921",
     "exception": false,
     "start_time": "2022-08-01T00:07:07.027427",
     "status": "completed"
    },
    "tags": []
   },
   "source": [
    "### Indeed, a quick check does confirm that sex does play a big role:"
   ]
  },
  {
   "cell_type": "code",
   "execution_count": 9,
   "id": "b7563eb0",
   "metadata": {
    "execution": {
     "iopub.execute_input": "2022-08-01T00:07:07.064276Z",
     "iopub.status.busy": "2022-08-01T00:07:07.063880Z",
     "iopub.status.idle": "2022-08-01T00:07:07.314072Z",
     "shell.execute_reply": "2022-08-01T00:07:07.312653Z"
    },
    "papermill": {
     "duration": 0.266191,
     "end_time": "2022-08-01T00:07:07.316918",
     "exception": false,
     "start_time": "2022-08-01T00:07:07.050727",
     "status": "completed"
    },
    "tags": []
   },
   "outputs": [
    {
     "name": "stdout",
     "output_type": "stream",
     "text": [
      "% of women who survived: 0.74204\n",
      "% of men who survived: 0.18891\n"
     ]
    },
    {
     "data": {
      "text/plain": [
       "<AxesSubplot:xlabel='Sex', ylabel='count'>"
      ]
     },
     "execution_count": 9,
     "metadata": {},
     "output_type": "execute_result"
    },
    {
     "data": {
      "image/png": "[encoded data removed]",
      "text/plain": [
       "<Figure size 1080x1080 with 1 Axes>"
      ]
     },
     "metadata": {
      "needs_background": "light"
     },
     "output_type": "display_data"
    }
   ],
   "source": [
    "women = train_data.loc[train_data.Sex == 'female'][\"Survived\"]\n",
    "rate_women = np.sum(women)/len(women)\n",
    "print(f\"% of women who survived: {rate_women:.5f}\") \n",
    "\n",
    "men = train_data.loc[train_data.Sex == 'male'][\"Survived\"]\n",
    "rate_men = np.sum(men)/len(men)\n",
    "print(f\"% of men who survived: {rate_men:.5f}\") \n",
    "\n",
    "fig, ax = plt.subplots(nrows = 1, figsize = (15,15))\n",
    "sns.countplot(x=\"Sex\", hue = \"Survived\", data = train_data)"
   ]
  },
  {
   "cell_type": "markdown",
   "id": "46d70511",
   "metadata": {
    "papermill": {
     "duration": 0.011977,
     "end_time": "2022-08-01T00:07:07.341195",
     "exception": false,
     "start_time": "2022-08-01T00:07:07.329218",
     "status": "completed"
    },
    "tags": []
   },
   "source": [
    "### We can also see here that the higher the Fare, the more chance you have for surviving, despite the lower number of sample size:"
   ]
  },
  {
   "cell_type": "code",
   "execution_count": 10,
   "id": "89726d28",
   "metadata": {
    "execution": {
     "iopub.execute_input": "2022-08-01T00:07:07.367892Z",
     "iopub.status.busy": "2022-08-01T00:07:07.367463Z",
     "iopub.status.idle": "2022-08-01T00:07:07.765252Z",
     "shell.execute_reply": "2022-08-01T00:07:07.764409Z"
    },
    "papermill": {
     "duration": 0.415451,
     "end_time": "2022-08-01T00:07:07.768803",
     "exception": false,
     "start_time": "2022-08-01T00:07:07.353352",
     "status": "completed"
    },
    "tags": []
   },
   "outputs": [
    {
     "name": "stdout",
     "output_type": "stream",
     "text": [
      "% of rich people who survived: 0.68125\n",
      "% of poor people who survived: 0.31918\n"
     ]
    },
    {
     "data": {
      "text/plain": [
       "<AxesSubplot:xlabel='Fare', ylabel='Count'>"
      ]
     },
     "execution_count": 10,
     "metadata": {},
     "output_type": "execute_result"
    },
    {
     "data": {
      "image/png": "[encoded data removed]",
      "text/plain": [
       "<Figure size 1080x1080 with 1 Axes>"
      ]
     },
     "metadata": {
      "needs_background": "light"
     },
     "output_type": "display_data"
    }
   ],
   "source": [
    "rich = train_data.loc[train_data.Fare > 50][\"Survived\"]\n",
    "rate_rich = np.sum(rich)/len(rich)\n",
    "print(f\"% of rich people who survived: {rate_rich:.5f}\") \n",
    "\n",
    "poor = train_data.loc[train_data.Fare < 50][\"Survived\"]\n",
    "rate_poor = np.sum(poor)/len(poor)\n",
    "print(f\"% of poor people who survived: {rate_poor:.5f}\") \n",
    "\n",
    "\n",
    "fig, ax = plt.subplots(nrows = 1, figsize = (15,15))\n",
    "sns.histplot(x=\"Fare\", hue = \"Survived\", data = train_data, bins = 20, multiple = \"stack\")"
   ]
  },
  {
   "cell_type": "code",
   "execution_count": 11,
   "id": "c5441d2c",
   "metadata": {
    "execution": {
     "iopub.execute_input": "2022-08-01T00:07:07.796931Z",
     "iopub.status.busy": "2022-08-01T00:07:07.796251Z",
     "iopub.status.idle": "2022-08-01T00:07:07.814405Z",
     "shell.execute_reply": "2022-08-01T00:07:07.813148Z"
    },
    "papermill": {
     "duration": 0.035083,
     "end_time": "2022-08-01T00:07:07.817070",
     "exception": false,
     "start_time": "2022-08-01T00:07:07.781987",
     "status": "completed"
    },
    "tags": []
   },
   "outputs": [
    {
     "name": "stdout",
     "output_type": "stream",
     "text": [
      "   1st Feature 2nd Feature  Correlation Coefficient\n",
      "52      Pclass        Fare                 0.550553\n",
      "54      Pclass       Cabin                 0.623554\n"
     ]
    }
   ],
   "source": [
    "# Now find correlation between features (note correlation only finds linear relationship, however.)\n",
    "EDA_X_corr = EDA_X.drop([\"PassengerId\",\"Ticket\",\"Name\"],axis=1).corr().abs().unstack(level=0).sort_values(ascending=True).reset_index(drop=False)\n",
    "EDA_X_corr.columns = [\"1st Feature\", \"2nd Feature\",\"Correlation Coefficient\"]\n",
    "EDA_X_corr.drop(EDA_X_corr.iloc[1::2].index, inplace=True) #remove duplicate pairs, 1::2 removes all even rows\n",
    "EDA_X_corr = EDA_X_corr.drop(EDA_X_corr[EDA_X_corr[\"Correlation Coefficient\"] == 1.0].index) #remove correlation with itself\n",
    "EDA_X_corr = EDA_X_corr[EDA_X_corr[\"Correlation Coefficient\"] > 0.5] # >0.4 for \"high\"\n",
    "\n",
    "print(EDA_X_corr)"
   ]
  },
  {
   "cell_type": "markdown",
   "id": "e9798cb7",
   "metadata": {
    "papermill": {
     "duration": 0.013088,
     "end_time": "2022-08-01T00:07:07.842857",
     "exception": false,
     "start_time": "2022-08-01T00:07:07.829769",
     "status": "completed"
    },
    "tags": []
   },
   "source": [
    "### Since there are a lot of features, draw a Heatmap to visualize the interactions between features:"
   ]
  },
  {
   "cell_type": "code",
   "execution_count": 12,
   "id": "929fd457",
   "metadata": {
    "execution": {
     "iopub.execute_input": "2022-08-01T00:07:07.870649Z",
     "iopub.status.busy": "2022-08-01T00:07:07.870225Z",
     "iopub.status.idle": "2022-08-01T00:07:08.499012Z",
     "shell.execute_reply": "2022-08-01T00:07:08.497829Z"
    },
    "papermill": {
     "duration": 0.645907,
     "end_time": "2022-08-01T00:07:08.501726",
     "exception": false,
     "start_time": "2022-08-01T00:07:07.855819",
     "status": "completed"
    },
    "tags": []
   },
   "outputs": [
    {
     "data": {
      "text/plain": [
       "<AxesSubplot:>"
      ]
     },
     "execution_count": 12,
     "metadata": {},
     "output_type": "execute_result"
    },
    {
     "data": {
      "image/png": "[encoded data removed]",
      "text/plain": [
       "<Figure size 1080x1080 with 2 Axes>"
      ]
     },
     "metadata": {
      "needs_background": "light"
     },
     "output_type": "display_data"
    }
   ],
   "source": [
    "fig, ax = plt.subplots(nrows = 1,figsize = (15,15))\n",
    "sns.heatmap(EDA_X.drop(['PassengerId',\"Ticket\",\"Name\"], axis=1).corr(), annot=True, square=True, cmap='coolwarm', annot_kws={'size': 14})"
   ]
  },
  {
   "cell_type": "markdown",
   "id": "acec8d67",
   "metadata": {
    "papermill": {
     "duration": 0.013912,
     "end_time": "2022-08-01T00:07:08.530393",
     "exception": false,
     "start_time": "2022-08-01T00:07:08.516481",
     "status": "completed"
    },
    "tags": []
   },
   "source": [
    "### We can confirm that Pclass and Cabin are highly correlated. But, we know that Cabin originally had a lot of missing information– so we cannot discard Cabin completely, since it will impact our performance. We must fill Cabin in with a reasonable value (we temporarily label encoded it with .factorize()) and maybe think of an engineered feature that utilizies the highly correlated Cabin and PClass. "
   ]
  },
  {
   "cell_type": "code",
   "execution_count": 13,
   "id": "8b623963",
   "metadata": {
    "execution": {
     "iopub.execute_input": "2022-08-01T00:07:08.562000Z",
     "iopub.status.busy": "2022-08-01T00:07:08.560990Z",
     "iopub.status.idle": "2022-08-01T00:07:08.570817Z",
     "shell.execute_reply": "2022-08-01T00:07:08.569547Z"
    },
    "papermill": {
     "duration": 0.028507,
     "end_time": "2022-08-01T00:07:08.573678",
     "exception": false,
     "start_time": "2022-08-01T00:07:08.545171",
     "status": "completed"
    },
    "tags": []
   },
   "outputs": [
    {
     "data": {
      "text/plain": [
       "array([nan, 'C85', 'C123', 'E46', 'G6', 'C103', 'D56', 'A6',\n",
       "       'C23 C25 C27', 'B78', 'D33', 'B30', 'C52', 'B28', 'C83', 'F33',\n",
       "       'F G73', 'E31', 'A5', 'D10 D12', 'D26', 'C110', 'B58 B60', 'E101',\n",
       "       'F E69', 'D47', 'B86', 'F2', 'C2', 'E33', 'B19', 'A7', 'C49', 'F4',\n",
       "       'A32', 'B4', 'B80', 'A31', 'D36', 'D15', 'C93', 'C78', 'D35',\n",
       "       'C87', 'B77', 'E67', 'B94', 'C125', 'C99', 'C118', 'D7', 'A19',\n",
       "       'B49', 'D', 'C22 C26', 'C106', 'C65', 'E36', 'C54',\n",
       "       'B57 B59 B63 B66', 'C7', 'E34', 'C32', 'B18', 'C124', 'C91', 'E40',\n",
       "       'T', 'C128', 'D37', 'B35', 'E50', 'C82', 'B96 B98', 'E10', 'E44',\n",
       "       'A34', 'C104', 'C111', 'C92', 'E38', 'D21', 'E12', 'E63', 'A14',\n",
       "       'B37', 'C30', 'D20', 'B79', 'E25', 'D46', 'B73', 'C95', 'B38',\n",
       "       'B39', 'B22', 'C86', 'C70', 'A16', 'C101', 'C68', 'A10', 'E68',\n",
       "       'B41', 'A20', 'D19', 'D50', 'D9', 'A23', 'B50', 'A26', 'D48',\n",
       "       'E58', 'C126', 'B71', 'B51 B53 B55', 'D49', 'B5', 'B20', 'F G63',\n",
       "       'C62 C64', 'E24', 'C90', 'C45', 'E8', 'B101', 'D45', 'C46', 'D30',\n",
       "       'E121', 'D11', 'E77', 'F38', 'B3', 'D6', 'B82 B84', 'D17', 'A36',\n",
       "       'B102', 'B69', 'E49', 'C47', 'D28', 'E17', 'A24', 'C50', 'B42',\n",
       "       'C148'], dtype=object)"
      ]
     },
     "execution_count": 13,
     "metadata": {},
     "output_type": "execute_result"
    }
   ],
   "source": [
    "train_data.Cabin.unique()"
   ]
  },
  {
   "cell_type": "markdown",
   "id": "35b4e374",
   "metadata": {
    "papermill": {
     "duration": 0.01393,
     "end_time": "2022-08-01T00:07:08.602008",
     "exception": false,
     "start_time": "2022-08-01T00:07:08.588078",
     "status": "completed"
    },
    "tags": []
   },
   "source": [
    "### It turns out that the first letter of the Cabin refers to the deck of the ship. Let's engineer a feature called \"Deck\" from Cabin- most of the missing data will have the letter \"M\". We can first see the distribution within Deck and PClass by grouping them and counting them: "
   ]
  },
  {
   "cell_type": "code",
   "execution_count": 14,
   "id": "69bfe6ff",
   "metadata": {
    "execution": {
     "iopub.execute_input": "2022-08-01T00:07:08.632958Z",
     "iopub.status.busy": "2022-08-01T00:07:08.631996Z",
     "iopub.status.idle": "2022-08-01T00:07:08.665247Z",
     "shell.execute_reply": "2022-08-01T00:07:08.663993Z"
    },
    "papermill": {
     "duration": 0.051887,
     "end_time": "2022-08-01T00:07:08.668183",
     "exception": false,
     "start_time": "2022-08-01T00:07:08.616296",
     "status": "completed"
    },
    "tags": []
   },
   "outputs": [
    {
     "data": {
      "text/html": [
       "<div>\n",
       "<style scoped>\n",
       "    .dataframe tbody tr th:only-of-type {\n",
       "        vertical-align: middle;\n",
       "    }\n",
       "\n",
       "    .dataframe tbody tr th {\n",
       "        vertical-align: top;\n",
       "    }\n",
       "\n",
       "    .dataframe thead tr th {\n",
       "        text-align: left;\n",
       "    }\n",
       "</style>\n",
       "<table border=\"1\" class=\"dataframe\">\n",
       "  <thead>\n",
       "    <tr>\n",
       "      <th>Deck</th>\n",
       "      <th>A</th>\n",
       "      <th>B</th>\n",
       "      <th>C</th>\n",
       "      <th colspan=\"2\" halign=\"left\">D</th>\n",
       "      <th colspan=\"3\" halign=\"left\">E</th>\n",
       "      <th colspan=\"2\" halign=\"left\">F</th>\n",
       "      <th>G</th>\n",
       "      <th colspan=\"3\" halign=\"left\">M</th>\n",
       "      <th>T</th>\n",
       "    </tr>\n",
       "    <tr>\n",
       "      <th>Pclass</th>\n",
       "      <th>1</th>\n",
       "      <th>1</th>\n",
       "      <th>1</th>\n",
       "      <th>1</th>\n",
       "      <th>2</th>\n",
       "      <th>1</th>\n",
       "      <th>2</th>\n",
       "      <th>3</th>\n",
       "      <th>2</th>\n",
       "      <th>3</th>\n",
       "      <th>3</th>\n",
       "      <th>1</th>\n",
       "      <th>2</th>\n",
       "      <th>3</th>\n",
       "      <th>1</th>\n",
       "    </tr>\n",
       "  </thead>\n",
       "  <tbody>\n",
       "    <tr>\n",
       "      <th>Count</th>\n",
       "      <td>15</td>\n",
       "      <td>47</td>\n",
       "      <td>59</td>\n",
       "      <td>29</td>\n",
       "      <td>4</td>\n",
       "      <td>25</td>\n",
       "      <td>4</td>\n",
       "      <td>3</td>\n",
       "      <td>8</td>\n",
       "      <td>5</td>\n",
       "      <td>4</td>\n",
       "      <td>40</td>\n",
       "      <td>168</td>\n",
       "      <td>479</td>\n",
       "      <td>1</td>\n",
       "    </tr>\n",
       "  </tbody>\n",
       "</table>\n",
       "</div>"
      ],
      "text/plain": [
       "Deck     A   B   C   D      E        F     G   M            T\n",
       "Pclass   1   1   1   1  2   1  2  3  2  3  3   1    2    3  1\n",
       "Count   15  47  59  29  4  25  4  3  8  5  4  40  168  479  1"
      ]
     },
     "execution_count": 14,
     "metadata": {},
     "output_type": "execute_result"
    }
   ],
   "source": [
    "my_train_data = train_data.copy() # Don't modify train_data\n",
    "my_train_data[\"Deck\"] = my_train_data[\"Cabin\"].apply(lambda x: x[0] if pd.notnull(x) else \"M\")\n",
    "my_train_data.Deck.unique()\n",
    "\n",
    "df_decks = my_train_data.groupby([\"Deck\",\"Pclass\"]).count().drop(columns=[\"PassengerId\",\"Survived\",\"Name\",\"Ticket\",\"Age\",\"SibSp\",\"Parch\",\"Fare\",\"Cabin\",\"Embarked\"])\n",
    "df_decks.columns = ([\"Count\"])\n",
    "df_decks = df_decks.transpose()\n",
    "df_decks"
   ]
  },
  {
   "cell_type": "markdown",
   "id": "bac1c32f",
   "metadata": {
    "papermill": {
     "duration": 0.014403,
     "end_time": "2022-08-01T00:07:08.697432",
     "exception": false,
     "start_time": "2022-08-01T00:07:08.683029",
     "status": "completed"
    },
    "tags": []
   },
   "source": [
    "For different models- Try XGBoost, then Deep Learning Model with TF and PyTorch!"
   ]
  },
  {
   "cell_type": "code",
   "execution_count": null,
   "id": "68cb5221",
   "metadata": {
    "papermill": {
     "duration": 0.014031,
     "end_time": "2022-08-01T00:07:08.725940",
     "exception": false,
     "start_time": "2022-08-01T00:07:08.711909",
     "status": "completed"
    },
    "tags": []
   },
   "outputs": [],
   "source": []
  },
  {
   "cell_type": "code",
   "execution_count": null,
   "id": "9ea1b16f",
   "metadata": {
    "papermill": {
     "duration": 0.014133,
     "end_time": "2022-08-01T00:07:08.754729",
     "exception": false,
     "start_time": "2022-08-01T00:07:08.740596",
     "status": "completed"
    },
    "tags": []
   },
   "outputs": [],
   "source": []
  },
  {
   "cell_type": "code",
   "execution_count": null,
   "id": "efb76ab8",
   "metadata": {
    "papermill": {
     "duration": 0.014274,
     "end_time": "2022-08-01T00:07:08.783674",
     "exception": false,
     "start_time": "2022-08-01T00:07:08.769400",
     "status": "completed"
    },
    "tags": []
   },
   "outputs": [],
   "source": []
  },
  {
   "cell_type": "code",
   "execution_count": null,
   "id": "fa6396cb",
   "metadata": {
    "papermill": {
     "duration": 0.01411,
     "end_time": "2022-08-01T00:07:08.812236",
     "exception": false,
     "start_time": "2022-08-01T00:07:08.798126",
     "status": "completed"
    },
    "tags": []
   },
   "outputs": [],
   "source": []
  }
 ],
 "metadata": {
  "kernelspec": {
   "display_name": "Python 3",
   "language": "python",
   "name": "python3"
  },
  "language_info": {
   "codemirror_mode": {
    "name": "ipython",
    "version": 3
   },
   "file_extension": ".py",
   "mimetype": "text/x-python",
   "name": "python",
   "nbconvert_exporter": "python",
   "pygments_lexer": "ipython3",
   "version": "3.7.12"
  },
  "papermill": {
   "default_parameters": {},
   "duration": 30.883221,
   "end_time": "2022-08-01T00:07:12.300630",
   "environment_variables": {},
   "exception": null,
   "input_path": "__notebook__.ipynb",
   "output_path": "__notebook__.ipynb",
   "parameters": {},
   "start_time": "2022-08-01T00:06:41.417409",
   "version": "2.3.4"
  }
 },
 "nbformat": 4,
 "nbformat_minor": 5
}
